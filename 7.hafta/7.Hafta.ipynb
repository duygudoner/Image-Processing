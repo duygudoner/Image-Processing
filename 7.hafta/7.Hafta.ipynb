{
 "cells": [
  {
   "cell_type": "code",
   "execution_count": 39,
   "metadata": {},
   "outputs": [],
   "source": [
    "#https://peterroelants.github.io/posts/multivariate-normal-primer/"
   ]
  },
  {
   "cell_type": "code",
   "execution_count": 9,
   "metadata": {},
   "outputs": [],
   "source": [
    "import numpy as np"
   ]
  },
  {
   "cell_type": "code",
   "execution_count": 10,
   "metadata": {},
   "outputs": [
    {
     "data": {
      "text/plain": [
       "([180, 170, 170, 175, 181, 175, 177, 185, 179, 160],\n",
       " [95, 70, 60, 79, 60, 63, 83, 80, 75, 50],\n",
       " 10,\n",
       " 10)"
      ]
     },
     "execution_count": 10,
     "metadata": {},
     "output_type": "execute_result"
    }
   ],
   "source": [
    "x=[180,170,170,175,181,175,177,185,179,160]\n",
    "y=[95,70,60,79,60,63,83,80,75,50]\n",
    "x,y,len(x),len(y)"
   ]
  },
  {
   "cell_type": "code",
   "execution_count": 11,
   "metadata": {},
   "outputs": [
    {
     "data": {
      "text/plain": [
       "array([[180, 170, 170, 175, 181, 175, 177, 185, 179, 160],\n",
       "       [ 95,  70,  60,  79,  60,  63,  83,  80,  75,  50]])"
      ]
     },
     "execution_count": 11,
     "metadata": {},
     "output_type": "execute_result"
    }
   ],
   "source": [
    "X= np.stack((x,y), axis=0)\n",
    "X"
   ]
  },
  {
   "cell_type": "code",
   "execution_count": 12,
   "metadata": {},
   "outputs": [
    {
     "data": {
      "text/plain": [
       "array([[ 50.62222222,  62.        ],\n",
       "       [ 62.        , 180.72222222]])"
      ]
     },
     "execution_count": 12,
     "metadata": {},
     "output_type": "execute_result"
    }
   ],
   "source": [
    "sigma_1=np.cov(X)\n",
    "sigma_1"
   ]
  },
  {
   "cell_type": "code",
   "execution_count": 15,
   "metadata": {},
   "outputs": [
    {
     "data": {
      "text/plain": [
       "array([[180, 170, 170, 175, 181, 175, 177, 185, 179, 160],\n",
       "       [180, 170, 170, 175, 181, 175, 177, 185, 179, 160]])"
      ]
     },
     "execution_count": 15,
     "metadata": {},
     "output_type": "execute_result"
    }
   ],
   "source": [
    "X_test= np.stack((x,x), axis=0)\n",
    "X_test"
   ]
  },
  {
   "cell_type": "code",
   "execution_count": 16,
   "metadata": {},
   "outputs": [
    {
     "data": {
      "text/plain": [
       "array([[50.62222222, 50.62222222],\n",
       "       [50.62222222, 50.62222222]])"
      ]
     },
     "execution_count": 16,
     "metadata": {},
     "output_type": "execute_result"
    }
   ],
   "source": [
    "sigma_2=np.cov(X_test)\n",
    "sigma_2"
   ]
  },
  {
   "cell_type": "code",
   "execution_count": 17,
   "metadata": {},
   "outputs": [],
   "source": [
    "def generate_data():                                #Yukarıdaki işlemlerin toparlayıp fonksiyon olarak yazılmış hali\n",
    "    x=[180,170,170,175,181,175,177,185,179,160]\n",
    "    y=[95,70,60,79,60,63,83,80,75,50]\n",
    "    X= np.stack((x,y), axis=0)\n",
    "    return X\n",
    "def get_cov_matris(X):\n",
    "    sigma_1=np.cov(X)\n",
    "    return sigma_1"
   ]
  },
  {
   "cell_type": "code",
   "execution_count": 19,
   "metadata": {},
   "outputs": [
    {
     "data": {
      "text/plain": [
       "array([[ 50.62222222,  62.        ],\n",
       "       [ 62.        , 180.72222222]])"
      ]
     },
     "execution_count": 19,
     "metadata": {},
     "output_type": "execute_result"
    }
   ],
   "source": [
    "data_1=generate_data()\n",
    "get_cov_matris(data_1)"
   ]
  },
  {
   "cell_type": "code",
   "execution_count": 20,
   "metadata": {},
   "outputs": [],
   "source": [
    "def multivariate_normal(x, d, mean, covariance):\n",
    "    \"\"\"pdf of the multivariate normal distribution.\"\"\"\n",
    "    x_m = x - mean\n",
    "    return (1. / (np.sqrt((2 * np.pi)**d * np.linalg.det(covariance))) * \n",
    "            np.exp(-(np.linalg.solve(covariance, x_m).T.dot(x_m)) / 2))"
   ]
  },
  {
   "cell_type": "code",
   "execution_count": 24,
   "metadata": {},
   "outputs": [
    {
     "data": {
      "text/plain": [
       "(175.2, 71.5)"
      ]
     },
     "execution_count": 24,
     "metadata": {},
     "output_type": "execute_result"
    }
   ],
   "source": [
    "x=generate_data()\n",
    "np.mean(x[0,:]),np.mean(x[1,:])"
   ]
  },
  {
   "cell_type": "code",
   "execution_count": 33,
   "metadata": {},
   "outputs": [],
   "source": [
    "x_1=[165,75]\n",
    "d_1=2\n",
    "\n",
    "data=generate_data()\n",
    "mean_1=np.array([np.mean(x[0,:]),np.mean(x[1,:])])\n",
    "covariance_1=get_cov_matris(data)"
   ]
  },
  {
   "cell_type": "code",
   "execution_count": 34,
   "metadata": {},
   "outputs": [
    {
     "data": {
      "text/plain": [
       "0.00023078264286091306"
      ]
     },
     "execution_count": 34,
     "metadata": {},
     "output_type": "execute_result"
    }
   ],
   "source": [
    "multivariate_normal(x_1,d_1,mean_1,covariance_1)"
   ]
  },
  {
   "cell_type": "code",
   "execution_count": 38,
   "metadata": {},
   "outputs": [
    {
     "name": "stdout",
     "output_type": "stream",
     "text": [
      "164   0.00024129134356410783\n",
      "165   0.0003494602240504495\n",
      "166   0.0004891676040544105\n",
      "167   0.0006617920579089789\n",
      "168   0.0008653451053442342\n",
      "169   0.0010936064403862017\n",
      "170   0.0013357854355784107\n",
      "171   0.0015769440170517823\n",
      "172   0.001799284234571747\n",
      "173   0.001984208019848437\n",
      "174   0.002114845053089612\n",
      "175   0.0021785816127892627\n",
      "176   0.0021690673696961073\n",
      "177   0.002087258197686197\n",
      "178   0.0019412579031221158\n",
      "179   0.0017449951542558295\n",
      "180   0.0015160346965710169\n",
      "181   0.0012729987684041739\n",
      "182   0.0010331199622780874\n",
      "183   0.0008103589816512312\n"
     ]
    }
   ],
   "source": [
    "for i in range(20):\n",
    "    v=164+i\n",
    "    x_1=[v,72]\n",
    "    s=multivariate_normal(x_1,d_1,mean_1,covariance_1)\n",
    "    print(v,\" \",s)"
   ]
  },
  {
   "cell_type": "code",
   "execution_count": null,
   "metadata": {},
   "outputs": [],
   "source": []
  }
 ],
 "metadata": {
  "kernelspec": {
   "display_name": "Python 3",
   "language": "python",
   "name": "python3"
  },
  "language_info": {
   "codemirror_mode": {
    "name": "ipython",
    "version": 3
   },
   "file_extension": ".py",
   "mimetype": "text/x-python",
   "name": "python",
   "nbconvert_exporter": "python",
   "pygments_lexer": "ipython3",
   "version": "3.7.3"
  }
 },
 "nbformat": 4,
 "nbformat_minor": 2
}
