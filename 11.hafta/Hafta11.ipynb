{
 "cells": [
  {
   "cell_type": "code",
   "execution_count": 26,
   "metadata": {},
   "outputs": [],
   "source": [
    "import matplotlib.pyplot as plt\n",
    "import numpy as np\n",
    "import cv2\n",
    "import os.path"
   ]
  },
  {
   "cell_type": "code",
   "execution_count": 27,
   "metadata": {},
   "outputs": [
    {
     "data": {
      "text/plain": [
       "['.ipynb_checkpoints', 'Hafta11.ipynb', 'main_folder']"
      ]
     },
     "execution_count": 27,
     "metadata": {},
     "output_type": "execute_result"
    }
   ],
   "source": [
    "os.listdir()"
   ]
  },
  {
   "cell_type": "code",
   "execution_count": 28,
   "metadata": {},
   "outputs": [
    {
     "data": {
      "text/plain": [
       "'C:\\\\Users\\\\duygu\\\\Desktop\\\\dersler\\\\7.dönem\\\\görüntü işleme\\\\11.hafta'"
      ]
     },
     "execution_count": 28,
     "metadata": {},
     "output_type": "execute_result"
    }
   ],
   "source": [
    "os.getcwd()"
   ]
  },
  {
   "cell_type": "code",
   "execution_count": 20,
   "metadata": {},
   "outputs": [],
   "source": [
    "#data_main_folder=\"C:\\\\Users\\\\duygu\\\\Desktop\\\\dersler\\\\7.dönem\\\\görüntü işleme\\\\11.hafta\\\\\""
   ]
  },
  {
   "cell_type": "code",
   "execution_count": 21,
   "metadata": {},
   "outputs": [],
   "source": [
    "data_main_folder=\"C:\\\\Users\\\\duygu\\\\Desktop\\\\dersler\\\\7.dönem\\\\görüntü işleme\\\\11.hafta\\\\main_folder\""
   ]
  },
  {
   "cell_type": "code",
   "execution_count": 22,
   "metadata": {},
   "outputs": [],
   "source": [
    "dirs=[d for d in os.listdir(data_main_folder) if os.path.isdir(os.path.join(data_main_folder))]"
   ]
  },
  {
   "cell_type": "code",
   "execution_count": 29,
   "metadata": {},
   "outputs": [
    {
     "name": "stdout",
     "output_type": "stream",
     "text": [
      "[]\n"
     ]
    }
   ],
   "source": [
    "print(dirs)"
   ]
  },
  {
   "cell_type": "code",
   "execution_count": 30,
   "metadata": {},
   "outputs": [],
   "source": [
    "data_faces_of_class = np.zeros((1000,100*100+1))\n",
    "folder_counter = -1\n",
    "s = -1\n",
    "for directory in dirs:\n",
    "    folder_counter = folder_counter +1\n",
    "    new_folder = data_main_folder+\"/\"+directory\n",
    "    \n",
    "    files= [d for d in os.listdir(new_folder) if os.path.isfile(os.path.join(new_folder))]\n",
    "    for file_ in files:\n",
    "        s=s+1\n",
    "        file_name_with_folder=new_folder+\"/\"+file_\n",
    "        print(file_name_with_folder)\n",
    "        ori_image=cv2.imread(file_name_with_folder)\n",
    "        print(ori_image.shape)\n",
    "        resized_img=cv2.resize(ori_image,(100,100))\n",
    "        print(resized_img.shape)\n",
    "\n",
    "        image_gray=cv2.cvtColor(resized_img,cv2.COLOR_BGR2GRAY)\n",
    "        print(image_gray.shape)\n",
    "        plt.imshow(image_gray)\n",
    "        plt.show()\n",
    "\n",
    "        image_gray_one_dim=image_gray.reshape(1,100*100)\n",
    "        print(image_gray_one_dim.shape)\n",
    "        data_faces_of_class[s,0]=folder_counter\n",
    "        data_faces_of_class[s,1:100*100+1]=image_gray_one_dim\n",
    "\n",
    "        cv2.imshow(\"original image\",resized_img)\n",
    "        #cv2.imshow(\"gray image\",image_gray)\n",
    "        #print(dir_,files)"
   ]
  },
  {
   "cell_type": "code",
   "execution_count": 31,
   "metadata": {},
   "outputs": [
    {
     "name": "stdout",
     "output_type": "stream",
     "text": [
      "(1000, 10001)\n"
     ]
    }
   ],
   "source": [
    "print(data_faces_of_class.shape)"
   ]
  },
  {
   "cell_type": "code",
   "execution_count": 32,
   "metadata": {},
   "outputs": [
    {
     "name": "stdout",
     "output_type": "stream",
     "text": [
      "[0. 0. 0. ... 0. 0. 0.]\n"
     ]
    }
   ],
   "source": [
    "print(data_faces_of_class[3])"
   ]
  },
  {
   "cell_type": "code",
   "execution_count": null,
   "metadata": {},
   "outputs": [],
   "source": []
  }
 ],
 "metadata": {
  "kernelspec": {
   "display_name": "Python 3",
   "language": "python",
   "name": "python3"
  },
  "language_info": {
   "codemirror_mode": {
    "name": "ipython",
    "version": 3
   },
   "file_extension": ".py",
   "mimetype": "text/x-python",
   "name": "python",
   "nbconvert_exporter": "python",
   "pygments_lexer": "ipython3",
   "version": "3.7.3"
  }
 },
 "nbformat": 4,
 "nbformat_minor": 2
}
