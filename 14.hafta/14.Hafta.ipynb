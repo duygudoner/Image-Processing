{
 "cells": [
  {
   "cell_type": "code",
   "execution_count": null,
   "metadata": {},
   "outputs": [],
   "source": [
    "#https://victorzhou.com/blog/intro-to-cnns-part-1/"
   ]
  },
  {
   "cell_type": "code",
   "execution_count": 2,
   "metadata": {},
   "outputs": [],
   "source": [
    "import mnist\n",
    "import numpy as np\n",
    "from conv import Conv3x3\n",
    "from maxpool import MaxPool2\n",
    "from softmax import Softmax"
   ]
  },
  {
   "cell_type": "code",
   "execution_count": null,
   "metadata": {},
   "outputs": [],
   "source": [
    "def __init__(self, num_filters):\n",
    "    self.num_filters = num_filters\n",
    "    # num_filters max boyutu 8,4.. gibi\n",
    "    \n",
    "    self.filters = np.random.randn(num_filters, 3, 3) / 9  # 8 tane (3,3) luk matris üretti.\n",
    "                            #mask in değerlerini random üretti ilerideki aşamalarda güncelleyecek.\n",
    "        \n",
    "    def iterate_regions(self, image): #resim geldi.\n",
    "    '''\n",
    "    Generates all possible 3x3 image regions using valid padding.\n",
    "    - image is a 2d numpy array\n",
    "    '''\n",
    "    h, w = image.shape #en,boy ,değerleri 28x8\n",
    "\n",
    "    # resim üzerindeki son iki satırları ilerlemiyor. mask 3x3 olduğu için -2 oldu.\n",
    "    for i in range(h - 2):\n",
    "        for j in range(w - 2):\n",
    "            im_region = image[i:(i + 3), j:(j + 3)]\n",
    "            yield im_region, i, j\n",
    "            \n",
    "            \n",
    "    def forward(self, input):\n",
    "        '''\n",
    "        Performs a forward pass of the conv layer using the given input.\n",
    "        Returns a 3d numpy array with dimensions (h, w, num_filters).\n",
    "        - input is a 2d numpy array\n",
    "        '''\n",
    "        h, w = input.shape\n",
    "        output = np.zeros((h - 2, w - 2, self.num_filters))\n",
    "\n",
    "        #!!önemli!!!# \n",
    "        for im_region, i, j in self.iterate_regions(input):\n",
    "            output[i, j] = np.sum(im_region * self.filters, axis=(1, 2))\n",
    "\n",
    "        return output"
   ]
  },
  {
   "cell_type": "code",
   "execution_count": null,
   "metadata": {},
   "outputs": [],
   "source": [
    "import mnist\n",
    "from conv import Conv3x3\n",
    "\n",
    "# The mnist package handles the MNIST dataset for us!\n",
    "# Learn more at https://github.com/datapythonista/mnist\n",
    "train_images = mnist.train_images()\n",
    "train_labels = mnist.train_labels()\n",
    "\n",
    "conv = Conv3x3(8)\n",
    "output = conv.forward(train_images[0])\n",
    "print(output.shape) # (26, 26, 8)"
   ]
  }
 ],
 "metadata": {
  "kernelspec": {
   "display_name": "Python 3",
   "language": "python",
   "name": "python3"
  },
  "language_info": {
   "codemirror_mode": {
    "name": "ipython",
    "version": 3
   },
   "file_extension": ".py",
   "mimetype": "text/x-python",
   "name": "python",
   "nbconvert_exporter": "python",
   "pygments_lexer": "ipython3",
   "version": "3.7.3"
  }
 },
 "nbformat": 4,
 "nbformat_minor": 2
}
