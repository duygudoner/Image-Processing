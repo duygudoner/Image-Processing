{
 "cells": [
  {
   "cell_type": "code",
   "execution_count": 1,
   "metadata": {},
   "outputs": [],
   "source": [
    "%matplotlib inline\n",
    "import numpy as np\n",
    "import matplotlib.pyplot as plt\n",
    "import os"
   ]
  },
  {
   "cell_type": "code",
   "execution_count": 2,
   "metadata": {},
   "outputs": [
    {
     "data": {
      "text/plain": [
       "'C:\\\\Users\\\\duygu\\\\Desktop\\\\görüntü işleme\\\\5.hafta'"
      ]
     },
     "execution_count": 2,
     "metadata": {},
     "output_type": "execute_result"
    }
   ],
   "source": [
    "os.getcwd()"
   ]
  },
  {
   "cell_type": "code",
   "execution_count": 3,
   "metadata": {},
   "outputs": [],
   "source": [
    "data_path=\"C:\\\\Users\\\\duygu\\\\Desktop\\\\görüntü işleme\\\\4.hafta\"\n",
    "train_data = np.loadtxt(data_path + \"//mnist_train.csv\", delimiter=\",\")\n",
    "test_data = np.loadtxt(data_path + \"//mnist_test.csv\", delimiter=\",\")"
   ]
  },
  {
   "cell_type": "code",
   "execution_count": 4,
   "metadata": {},
   "outputs": [
    {
     "data": {
      "text/plain": [
       "(10000, 785)"
      ]
     },
     "execution_count": 4,
     "metadata": {},
     "output_type": "execute_result"
    }
   ],
   "source": [
    "test_data.shape"
   ]
  },
  {
   "cell_type": "code",
   "execution_count": 5,
   "metadata": {},
   "outputs": [
    {
     "data": {
      "text/plain": [
       "<matplotlib.image.AxesImage at 0x2088b657048>"
      ]
     },
     "execution_count": 5,
     "metadata": {},
     "output_type": "execute_result"
    },
    {
     "data": {
      "image/png": "[encoded data removed]",
      "text/plain": [
       "<Figure size 432x288 with 1 Axes>"
      ]
     },
     "metadata": {
      "needs_background": "light"
     },
     "output_type": "display_data"
    }
   ],
   "source": [
    "im_1= plt.imread(\"iki.jpg\")\n",
    "plt.imshow(im_1)"
   ]
  },
  {
   "cell_type": "code",
   "execution_count": 6,
   "metadata": {},
   "outputs": [
    {
     "data": {
      "text/plain": [
       "(10000, 785)"
      ]
     },
     "execution_count": 6,
     "metadata": {},
     "output_type": "execute_result"
    }
   ],
   "source": [
    "m,n = test_data.shape\n",
    "m,n"
   ]
  },
  {
   "cell_type": "code",
   "execution_count": 7,
   "metadata": {},
   "outputs": [
    {
     "data": {
      "text/plain": [
       "(3.367248062015504, 25.5601800854087)"
      ]
     },
     "execution_count": 7,
     "metadata": {},
     "output_type": "execute_result"
    }
   ],
   "source": [
    "def get_my_mean_and_std(k=0,l=0): # k -> class l -> position\n",
    "    \n",
    "    try:\n",
    "    \n",
    "        s=0  \n",
    "        t=0\n",
    "        for i in range(m):\n",
    "            if(test_data[i,0]==k):\n",
    "                s=s+1\n",
    "                t=t+test_data[i,l+1]\n",
    "        mean_1=(t/(s))\n",
    "\n",
    "        s,t=0,0\n",
    "        for i in range(m):                 #varyans değeri\n",
    "            if(test_data[i,0]==k):\n",
    "                s=s+1\n",
    "                diff_1=test_data[i,l+1]-mean_1\n",
    "                t=t + diff_1*diff_1\n",
    "        std_1=np.sqrt(t/(s-1))\n",
    "\n",
    "        #print(mean_1,std_1)\n",
    "        return mean_1,std_1\n",
    "    except :\n",
    "        return(0,0)\n",
    "\n",
    "get_my_mean_and_std(2,200)"
   ]
  },
  {
   "cell_type": "code",
   "execution_count": 8,
   "metadata": {},
   "outputs": [
    {
     "data": {
      "text/plain": [
       "0.001477282803979336"
      ]
     },
     "execution_count": 8,
     "metadata": {},
     "output_type": "execute_result"
    }
   ],
   "source": [
    "import math\n",
    "eps = np.finfo(float).eps\n",
    "def my_pdf_1(x, mu=0.0, sigma=1.0):\n",
    "    x = float(x - mu) / sigma\n",
    "    return math.exp(-x*x/2.0) / math.sqrt(2.0*math.pi) / sigma\n",
    "my_pdf_1(10,1,3)\n",
    "#veri setindeki x in olasılığı nedir?"
   ]
  },
  {
   "cell_type": "code",
   "execution_count": 9,
   "metadata": {},
   "outputs": [
    {
     "data": {
      "text/plain": [
       "array([  6.,   0.,   0.,   0.,   0.,   0.,   0.,   0.,   0.,   0.,   0.,\n",
       "         0.,   0.,   0.,   0.,   0.,   0.,   0.,   0.,   0.,   0.,   0.,\n",
       "         0.,   0.,   0.,   0.,   0.,   0.,   0.,   0.,   0.,   0.,   0.,\n",
       "         0.,   0.,   0.,   0.,   0.,   0.,   0.,   0.,   0.,   0.,   0.,\n",
       "         0.,   0.,   0.,   0.,   0.,   0.,   0.,   0.,   0.,   0.,   0.,\n",
       "         0.,   0.,   0.,   0.,   0.,   0.,   0.,   0.,   0.,   0.,   0.,\n",
       "         0.,   0.,   0., 127., 221.,  52.,   0.,   0.,   0.,   0.,   0.,\n",
       "         0.,   0.,   0.,   0.,   0.,   0.,   0.,   0.,   0.,   0.,   0.,\n",
       "         0.,   0.,   0.,   0.,   0.,   0.,   0.,   0.,  64., 229., 219.,\n",
       "       104.,   0.,   0.,   0.,   0.,   0.,   0.,   0.,   0.,   0.,   0.,\n",
       "         0.,   0.,   0.,   0.,   0.,   0.,   0.,   0.,   0.,   0.,   0.,\n",
       "         0.,   0.,  13., 235., 140.,   4.,   3.,   0.,   0.,   0.,   0.,\n",
       "         0.,   0.,   0.,   0.,   0.,   0.,   0.,   0.,   0.,   0.,   0.,\n",
       "         0.,   0.,   0.,   0.,   0.,   0.,   0.,   0., 118., 227.,  25.,\n",
       "         0.,   0.,   0.,   0.,   0.,   0.,   0.,   0.,   0.,   0.,   0.,\n",
       "         0.,   0.,   0.,   0.,   0.,   0.,   0.,   0.,   0.,   0.,   0.,\n",
       "         0.,   0.,   0., 236., 133.,   0.,   0.,   0.,   0.,   0.,   0.,\n",
       "         0.,   0.,   0.,   0.,   0.,   0.,   0.,   0.,   0.,   0.,   0.,\n",
       "         0.,   0.,   0.,   0.,   0.,   0.,   0.,   0.,  13., 243.,  93.,\n",
       "         0.,   0.,   0.,   0.,   0.,   0.,   0.,   0.,   0.,   0.,   0.,\n",
       "         0.,   0.,   0.,   0.,   0.,   0.,   0.,   0.,   0.,   0.,   0.,\n",
       "         0.,   0.,   0.,  85., 243.,  21.,   0.,   0.,   0.,   0.,   0.,\n",
       "         0.,   0.,   0.,   0.,   0.,   0.,   0.,   0.,   0.,   0.,   0.,\n",
       "         0.,   0.,   0.,   0.,   0.,   0.,   0.,   0.,   0., 189., 236.,\n",
       "         0.,   0.,   0.,   0.,   0.,   0.,   0.,   0.,   0.,   0.,   0.,\n",
       "         0.,   0.,   0.,   0.,   0.,   0.,   0.,   0.,   0.,   0.,   0.,\n",
       "         0.,   0.,   0.,   1., 208., 169.,   0.,   0.,   0.,   0.,   0.,\n",
       "         0.,  64., 151., 151., 135.,  74.,   1.,   0.,   0.,   0.,   0.,\n",
       "         0.,   0.,   0.,   0.,   0.,   0.,   0.,   0.,   0.,  26., 254.,\n",
       "        89.,   0.,   0.,   0.,   0.,   6., 142., 254., 224., 211., 181.,\n",
       "       241.,  70.,   0.,   0.,   0.,   0.,   0.,   0.,   0.,   0.,   0.,\n",
       "         0.,   0.,   0.,   0.,  26., 254.,  68.,   0.,   0.,   0.,   2.,\n",
       "       161., 254., 104.,   7.,   0.,   0.,  80., 223.,  15.,   0.,   0.,\n",
       "         0.,   0.,   0.,   0.,   0.,   0.,   0.,   0.,   0.,   0.,  57.,\n",
       "       254.,  15.,   0.,   0.,   0., 150., 231.,  68.,   1.,   0.,   0.,\n",
       "         0.,   9., 231.,  26.,   0.,   0.,   0.,   0.,   0.,   0.,   0.,\n",
       "         0.,   0.,   0.,   0.,   0.,  79., 254.,  15.,   0.,   0.,  24.,\n",
       "       228.,  66.,   0.,   0.,   0.,   0.,   0.,   0., 196.,  87.,   0.,\n",
       "         0.,   0.,   0.,   0.,   0.,   0.,   0.,   0.,   0.,   0.,   0.,\n",
       "        73., 254.,  43.,   0.,   0., 116., 251.,   7.,   0.,   0.,   0.,\n",
       "         0.,   0.,   0., 196., 100.,   0.,   0.,   0.,   0.,   0.,   0.,\n",
       "         0.,   0.,   0.,   0.,   0.,   0.,  13., 230., 147.,   0.,   0.,\n",
       "        60., 255.,  70.,   0.,   0.,   0.,   0.,   0.,   4., 209.,  84.,\n",
       "         0.,   0.,   0.,   0.,   0.,   0.,   0.,   0.,   0.,   0.,   0.,\n",
       "         0.,   0., 203., 232.,   4.,   0.,  42., 253.,  74.,   0.,   0.,\n",
       "         0.,   0.,   0., 114., 233.,  17.,   0.,   0.,   0.,   0.,   0.,\n",
       "         0.,   0.,   0.,   0.,   0.,   0.,   0.,   0.,  87., 252., 147.,\n",
       "         0.,   0., 154., 229., 132., 123., 123.,  63.,  93., 248.,  65.,\n",
       "         0.,   0.,   0.,   0.,   0.,   0.,   0.,   0.,   0.,   0.,   0.,\n",
       "         0.,   0.,   0.,   0., 169., 249., 137.,  23.,   8.,  80., 100.,\n",
       "       101., 107., 145., 192.,  51.,   0.,   0.,   0.,   0.,   0.,   0.,\n",
       "         0.,   0.,   0.,   0.,   0.,   0.,   0.,   0.,   0.,   0.,   5.,\n",
       "       139., 251., 224., 144., 115., 115., 195., 254., 187.,  48.,   0.,\n",
       "         0.,   0.,   0.,   0.,   0.,   0.,   0.,   0.,   0.,   0.,   0.,\n",
       "         0.,   0.,   0.,   0.,   0.,   0.,   0.,  55., 141., 203., 244.,\n",
       "       180., 129.,  67.,   2.,   0.,   0.,   0.,   0.,   0.,   0.,   0.,\n",
       "         0.,   0.,   0.,   0.,   0.,   0.,   0.,   0.,   0.,   0.,   0.,\n",
       "         0.,   0.,   0.,   0.,   0.,   0.,   0.,   0.,   0.,   0.,   0.,\n",
       "         0.,   0.,   0.,   0.,   0.,   0.,   0.,   0.,   0.,   0.,   0.,\n",
       "         0.,   0.,   0.,   0.,   0.,   0.,   0.,   0.,   0.,   0.,   0.,\n",
       "         0.,   0.,   0.,   0.,   0.,   0.,   0.,   0.,   0.,   0.,   0.,\n",
       "         0.,   0.,   0.,   0.,   0.,   0.,   0.,   0.,   0.,   0.,   0.,\n",
       "         0.,   0.,   0.,   0.,   0.,   0.,   0.,   0.,   0.,   0.,   0.,\n",
       "         0.,   0.,   0.,   0.,   0.,   0.,   0.,   0.,   0.,   0.,   0.,\n",
       "         0.,   0.,   0.,   0.,   0.,   0.,   0.,   0.,   0.,   0.,   0.,\n",
       "         0.,   0.,   0.,   0.,   0.,   0.,   0.,   0.,   0.,   0.,   0.,\n",
       "         0.,   0.,   0.,   0.,   0.,   0.,   0.,   0.,   0.,   0.,   0.,\n",
       "         0.,   0.,   0.,   0.,   0.,   0.,   0.,   0.,   0.,   0.,   0.,\n",
       "         0.,   0.,   0.,   0.,   0.,   0.,   0.,   0.,   0.,   0.,   0.,\n",
       "         0.,   0.,   0.,   0.,   0.,   0.,   0.,   0.,   0.,   0.,   0.,\n",
       "         0.,   0.,   0.,   0.,   0.,   0.,   0.,   0.,   0.,   0.,   0.,\n",
       "         0.,   0.,   0.,   0.])"
      ]
     },
     "execution_count": 9,
     "metadata": {},
     "output_type": "execute_result"
    }
   ],
   "source": [
    "test_data[100,:]"
   ]
  },
  {
   "cell_type": "code",
   "execution_count": 10,
   "metadata": {},
   "outputs": [],
   "source": [
    "#oluiturulan resimi 2 boyutlu hale getiriyoruz.\n",
    "\n",
    "my_t_image = plt.imread('iki.jpg')\n",
    "a,b,p= my_t_image.shape\n",
    "my_n_t_image = np.zeros((a,b),dtype=int)"
   ]
  },
  {
   "cell_type": "code",
   "execution_count": 11,
   "metadata": {},
   "outputs": [
    {
     "name": "stderr",
     "output_type": "stream",
     "text": [
      "C:\\Users\\duygu\\Anaconda3\\lib\\site-packages\\ipykernel_launcher.py:3: RuntimeWarning: overflow encountered in ubyte_scalars\n",
      "  This is separate from the ipykernel package so we can avoid doing imports until\n"
     ]
    },
    {
     "data": {
      "image/png": "[encoded data removed]",
      "text/plain": [
       "<Figure size 432x288 with 1 Axes>"
      ]
     },
     "metadata": {
      "needs_background": "light"
     },
     "output_type": "display_data"
    }
   ],
   "source": [
    "# Yukarıdaki işlemin 2. yolu\n",
    "for i in range(a):\n",
    "    for j in range(b):\n",
    "        s =(int) (my_t_image[i,j,0]+my_t_image[i,j,1]+my_t_image[i,j,2])/3\n",
    "        my_n_t_image [i,j] =s\n",
    "plt.imshow(my_n_t_image,cmap='gray')\n",
    "plt.show()"
   ]
  },
  {
   "cell_type": "code",
   "execution_count": 12,
   "metadata": {},
   "outputs": [
    {
     "data": {
      "image/png": "[encoded data removed]",
      "text/plain": [
       "<Figure size 432x288 with 1 Axes>"
      ]
     },
     "metadata": {
      "needs_background": "light"
     },
     "output_type": "display_data"
    }
   ],
   "source": [
    "im_gray = my_t_image[:,:,0]\n",
    "im_gray.shape\n",
    "plt.imshow(im_gray,cmap=\"gray\")\n",
    "plt.show()"
   ]
  },
  {
   "cell_type": "code",
   "execution_count": 13,
   "metadata": {},
   "outputs": [
    {
     "name": "stderr",
     "output_type": "stream",
     "text": [
      "C:\\Users\\duygu\\Anaconda3\\lib\\site-packages\\ipykernel_launcher.py:4: RuntimeWarning: divide by zero encountered in double_scalars\n",
      "  after removing the cwd from sys.path.\n",
      "C:\\Users\\duygu\\Anaconda3\\lib\\site-packages\\ipykernel_launcher.py:5: RuntimeWarning: invalid value encountered in double_scalars\n",
      "  \"\"\"\n",
      "C:\\Users\\duygu\\Anaconda3\\lib\\site-packages\\ipykernel_launcher.py:4: RuntimeWarning: invalid value encountered in double_scalars\n",
      "  after removing the cwd from sys.path.\n"
     ]
    },
    {
     "name": "stdout",
     "output_type": "stream",
     "text": [
      "0 1.5966988346942514\n",
      "1.5966988346942514 0\n",
      "1 2.3892303881890373\n",
      "2.3892303881890373 1\n",
      "2 1.1201124018774322\n",
      "1.1201124018774322 2\n",
      "3 1.3023083866832361\n",
      "1.3023083866832361 3\n",
      "4 3.129180334444455\n",
      "3.129180334444455 4\n",
      "5 1.214894882114011\n",
      "1.214894882114011 5\n",
      "6 2.141262210168243\n",
      "2.141262210168243 6\n",
      "7 7.08920520751286\n",
      "7.08920520751286 7\n",
      "8 1.4509308016210811\n",
      "1.4509308016210811 8\n",
      "9 2.3347281310126133\n",
      "2.3347281310126133 9\n"
     ]
    }
   ],
   "source": [
    "im_5 = im_gray.reshape(1,784)\n",
    "\n",
    "import math\n",
    "for i in range(10):\n",
    "    my_list =[]\n",
    "    pdf_t=0\n",
    "    for j in range(784):\n",
    "        x=im_5[0,j]\n",
    "        m_1,std_1 = get_my_mean_and_std(i,j)\n",
    "        pdf_deger = my_pdf_1(x,m_1,std_1)\n",
    "        if(math.isnan(pdf_deger)==False):\n",
    "            pdf_t = pdf_t + pdf_deger\n",
    "    print(i,pdf_t)\n",
    "    my_list.append(pdf_t)\n",
    "    print(pdf_t,i)"
   ]
  },
  {
   "cell_type": "code",
   "execution_count": 14,
   "metadata": {},
   "outputs": [],
   "source": [
    "im_5 = im_gray.reshape(1,784)\n",
    "\n",
    "import math\n",
    "\n",
    "def hesapla(im_5):\n",
    "    \n",
    "    for i in range(10):\n",
    "        pdf_t=0\n",
    "        for j in range(784):\n",
    "            x=im_5[0,j]\n",
    "            m_1,std_1 = get_my_mean_and_std(i,j)\n",
    "            pdf_deger = my_pdf_1(x,m_1,std_1)\n",
    "            if(math.isnan(pdf_deger)==False):\n",
    "                pdf_t = pdf_t + pdf_deger\n",
    "    print(pdf_t)\n",
    "    my_list.append(pdf_t)\n",
    "    return my_list"
   ]
  },
  {
   "cell_type": "code",
   "execution_count": 17,
   "metadata": {},
   "outputs": [
    {
     "name": "stderr",
     "output_type": "stream",
     "text": [
      "C:\\Users\\duygu\\Anaconda3\\lib\\site-packages\\ipykernel_launcher.py:4: RuntimeWarning: divide by zero encountered in double_scalars\n",
      "  after removing the cwd from sys.path.\n",
      "C:\\Users\\duygu\\Anaconda3\\lib\\site-packages\\ipykernel_launcher.py:5: RuntimeWarning: invalid value encountered in double_scalars\n",
      "  \"\"\"\n",
      "C:\\Users\\duygu\\Anaconda3\\lib\\site-packages\\ipykernel_launcher.py:4: RuntimeWarning: invalid value encountered in double_scalars\n",
      "  after removing the cwd from sys.path.\n"
     ]
    },
    {
     "name": "stdout",
     "output_type": "stream",
     "text": [
      "2.3347281310126133\n",
      "[2.3347281310126133, 2.3347281310126133, 2.3347281310126133]\n"
     ]
    }
   ],
   "source": [
    "listem = hesapla(im_5)\n",
    "print(listem)"
   ]
  },
  {
   "cell_type": "code",
   "execution_count": 16,
   "metadata": {},
   "outputs": [
    {
     "name": "stdout",
     "output_type": "stream",
     "text": [
      "2.3347281310126133\n"
     ]
    }
   ],
   "source": [
    "\n",
    "print(max(listem))"
   ]
  },
  {
   "cell_type": "code",
   "execution_count": null,
   "metadata": {},
   "outputs": [],
   "source": []
  }
 ],
 "metadata": {
  "kernelspec": {
   "display_name": "Python 3",
   "language": "python",
   "name": "python3"
  },
  "language_info": {
   "codemirror_mode": {
    "name": "ipython",
    "version": 3
   },
   "file_extension": ".py",
   "mimetype": "text/x-python",
   "name": "python",
   "nbconvert_exporter": "python",
   "pygments_lexer": "ipython3",
   "version": "3.7.3"
  }
 },
 "nbformat": 4,
 "nbformat_minor": 2
}
