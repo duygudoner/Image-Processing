{
 "cells": [
  {
   "cell_type": "code",
   "execution_count": 29,
   "metadata": {},
   "outputs": [
    {
     "data": {
      "text/plain": [
       "['assos.jpg']"
      ]
     },
     "execution_count": 29,
     "metadata": {},
     "output_type": "execute_result"
    }
   ],
   "source": [
    "import os\n",
    "os.getcwd()\n",
    "os.listdir()"
   ]
  },
  {
   "cell_type": "code",
   "execution_count": 28,
   "metadata": {},
   "outputs": [],
   "source": [
    "os.chdir('C:\\\\Users\\\\duygu\\\\Desktop\\\\görüntü işleme\\\\3.hafta')"
   ]
  },
  {
   "cell_type": "code",
   "execution_count": 18,
   "metadata": {},
   "outputs": [
    {
     "data": {
      "text/plain": [
       "(3.3, 2.2333333333333334)"
      ]
     },
     "execution_count": 18,
     "metadata": {},
     "output_type": "execute_result"
    }
   ],
   "source": [
    "def my_function_1(my_list_1=[2,4,3,4,5,6,3,3,2,1]):\n",
    "    t=0\n",
    "    s=0\n",
    "    for i in my_list_1:                     ##ortalama\n",
    "        s=s+1\n",
    "        t=t+i\n",
    "    mean_1=t/s\n",
    "    \n",
    "    t=0       \n",
    "    s=0\n",
    "    for i in my_list_1:                     ##varyans\n",
    "        s=s+1\n",
    "        t=t+(i-mean_1)*(i-mean_1)\n",
    "    var_1=t/(s-1)\n",
    "    \n",
    "    return mean_1,var_1\n",
    "my_function_1()\n"
   ]
  },
  {
   "cell_type": "code",
   "execution_count": 21,
   "metadata": {},
   "outputs": [
    {
     "data": {
      "text/plain": [
       "{2: 2, 4: 2, 3: 3, 5: 1, 6: 1, 1: 1}"
      ]
     },
     "execution_count": 21,
     "metadata": {},
     "output_type": "execute_result"
    }
   ],
   "source": [
    "my_histogram={}\n",
    "for i in my_list_1:\n",
    "    if i in my_histogram.keys():\n",
    "        my_histogram[i]=my_histogram[i]+1\n",
    "    else:\n",
    "        my_histogram[i]=1\n",
    "my_histogram"
   ]
  },
  {
   "cell_type": "code",
   "execution_count": 3,
   "metadata": {},
   "outputs": [],
   "source": [
    "### mean=?\n",
    "### var=?\n",
    "### std=?"
   ]
  },
  {
   "cell_type": "code",
   "execution_count": null,
   "metadata": {},
   "outputs": [],
   "source": [
    "### hist=?"
   ]
  },
  {
   "cell_type": "code",
   "execution_count": 20,
   "metadata": {},
   "outputs": [
    {
     "name": "stdout",
     "output_type": "stream",
     "text": [
      "2 2\n",
      "4 2\n",
      "3 3\n",
      "5 1\n",
      "6 1\n",
      "1 1\n"
     ]
    }
   ],
   "source": [
    "for i in my_histogram.keys():\n",
    "    print(i,my_histogram[i])"
   ]
  },
  {
   "cell_type": "code",
   "execution_count": 22,
   "metadata": {},
   "outputs": [],
   "source": [
    "import matplotlib.pyplot as plt\n",
    "import numpy as np"
   ]
  },
  {
   "cell_type": "code",
   "execution_count": 30,
   "metadata": {},
   "outputs": [],
   "source": [
    "image_1=plt.imread('assos.jpg')"
   ]
  },
  {
   "cell_type": "code",
   "execution_count": 39,
   "metadata": {},
   "outputs": [],
   "source": [
    "def my_function_2(image_1=plt.imread('assos.jpg')):\n",
    "    #image_1.ndim,image_1.shape\n",
    "    m,n,p=image_1.shape\n",
    "    #m,n,p\n",
    "    my_histogram={}\n",
    "    for i in range(m):\n",
    "        for j in range(n):\n",
    "            if image_1[i,j,0] in my_histogram.keys():\n",
    "                my_histogram[image_1[i,j,0]]=my_histogram[image_1[i,j,0]]+1\n",
    "            else:\n",
    "                my_histogram[image_1[i,j,0]]=1\n",
    "    return my_histogram"
   ]
  },
  {
   "cell_type": "code",
   "execution_count": 43,
   "metadata": {},
   "outputs": [],
   "source": [
    "def my_function_3(my_histogram=my_function_2()):\n",
    "    x=[]\n",
    "    y=[]\n",
    "    for key in  my_histogram.keys():\n",
    "        x.append(key)\n",
    "        y.append(my_histogram[key])\n",
    "    return x,y\n"
   ]
  },
  {
   "cell_type": "code",
   "execution_count": 44,
   "metadata": {},
   "outputs": [
    {
     "data": {
      "image/png": "[encoded data removed]",
      "text/plain": [
       "<Figure size 432x288 with 1 Axes>"
      ]
     },
     "metadata": {
      "needs_background": "light"
     },
     "output_type": "display_data"
    }
   ],
   "source": [
    "x,y=my_function_3()\n",
    "plt.bar(x,y)           #incelenen resmin ilk bandına göre histogram bilgisi\n",
    "plt.show()"
   ]
  },
  {
   "cell_type": "code",
   "execution_count": 41,
   "metadata": {},
   "outputs": [
    {
     "data": {
      "text/plain": [
       "{126: 2628,\n",
       " 99: 2156,\n",
       " 75: 2902,\n",
       " 103: 2059,\n",
       " 149: 1762,\n",
       " 143: 2252,\n",
       " 110: 1871,\n",
       " 101: 2189,\n",
       " 119: 2186,\n",
       " 98: 2363,\n",
       " 65: 3088,\n",
       " 44: 1829,\n",
       " 38: 1368,\n",
       " 33: 1151,\n",
       " 36: 1388,\n",
       " 37: 1363,\n",
       " 58: 2940,\n",
       " 62: 3171,\n",
       " 39: 1482,\n",
       " 28: 1079,\n",
       " 40: 1507,\n",
       " 42: 1603,\n",
       " 30: 1175,\n",
       " 69: 3260,\n",
       " 59: 3042,\n",
       " 83: 2683,\n",
       " 107: 1934,\n",
       " 112: 1965,\n",
       " 120: 2257,\n",
       " 129: 2592,\n",
       " 131: 2574,\n",
       " 135: 2689,\n",
       " 133: 2651,\n",
       " 89: 2590,\n",
       " 114: 1998,\n",
       " 87: 2539,\n",
       " 22: 888,\n",
       " 19: 909,\n",
       " 32: 1178,\n",
       " 45: 1886,\n",
       " 55: 2690,\n",
       " 86: 2663,\n",
       " 106: 2026,\n",
       " 91: 2422,\n",
       " 80: 2751,\n",
       " 97: 2361,\n",
       " 118: 2067,\n",
       " 122: 2611,\n",
       " 141: 2237,\n",
       " 151: 1690,\n",
       " 145: 2381,\n",
       " 150: 1701,\n",
       " 160: 1340,\n",
       " 162: 1286,\n",
       " 138: 2284,\n",
       " 157: 1368,\n",
       " 147: 2151,\n",
       " 140: 2468,\n",
       " 127: 2790,\n",
       " 164: 1437,\n",
       " 132: 2629,\n",
       " 81: 2754,\n",
       " 70: 3003,\n",
       " 90: 2537,\n",
       " 93: 2442,\n",
       " 92: 2497,\n",
       " 85: 2726,\n",
       " 71: 2990,\n",
       " 105: 2112,\n",
       " 111: 1836,\n",
       " 95: 2367,\n",
       " 94: 2402,\n",
       " 76: 2823,\n",
       " 88: 2578,\n",
       " 67: 3191,\n",
       " 96: 2359,\n",
       " 63: 3099,\n",
       " 60: 3125,\n",
       " 74: 2881,\n",
       " 68: 3095,\n",
       " 125: 2649,\n",
       " 66: 3216,\n",
       " 173: 1301,\n",
       " 152: 1705,\n",
       " 156: 1355,\n",
       " 178: 1383,\n",
       " 184: 972,\n",
       " 165: 1507,\n",
       " 195: 1049,\n",
       " 174: 1291,\n",
       " 159: 1221,\n",
       " 154: 1496,\n",
       " 172: 1260,\n",
       " 163: 1422,\n",
       " 179: 1159,\n",
       " 155: 1349,\n",
       " 104: 2043,\n",
       " 79: 2810,\n",
       " 102: 2183,\n",
       " 137: 2525,\n",
       " 130: 2594,\n",
       " 123: 2377,\n",
       " 72: 2979,\n",
       " 77: 2806,\n",
       " 136: 2640,\n",
       " 148: 1998,\n",
       " 128: 2589,\n",
       " 144: 2347,\n",
       " 134: 2585,\n",
       " 116: 2031,\n",
       " 121: 2455,\n",
       " 113: 1931,\n",
       " 124: 2531,\n",
       " 117: 2158,\n",
       " 115: 1907,\n",
       " 109: 1865,\n",
       " 73: 2933,\n",
       " 46: 1895,\n",
       " 21: 926,\n",
       " 16: 840,\n",
       " 15: 847,\n",
       " 20: 893,\n",
       " 25: 975,\n",
       " 54: 2744,\n",
       " 50: 2262,\n",
       " 100: 2153,\n",
       " 146: 2521,\n",
       " 52: 2440,\n",
       " 18: 838,\n",
       " 11: 762,\n",
       " 139: 2401,\n",
       " 158: 1161,\n",
       " 166: 1623,\n",
       " 82: 2787,\n",
       " 57: 3055,\n",
       " 84: 2719,\n",
       " 51: 2302,\n",
       " 167: 1443,\n",
       " 181: 1111,\n",
       " 168: 1335,\n",
       " 176: 1247,\n",
       " 189: 933,\n",
       " 153: 1534,\n",
       " 41: 1621,\n",
       " 31: 1169,\n",
       " 17: 813,\n",
       " 6: 696,\n",
       " 9: 698,\n",
       " 142: 2127,\n",
       " 161: 1163,\n",
       " 47: 1968,\n",
       " 43: 1763,\n",
       " 48: 2017,\n",
       " 61: 3209,\n",
       " 180: 1067,\n",
       " 188: 994,\n",
       " 187: 919,\n",
       " 177: 1386,\n",
       " 169: 1200,\n",
       " 78: 2830,\n",
       " 56: 2856,\n",
       " 34: 1273,\n",
       " 26: 1033,\n",
       " 29: 1134,\n",
       " 23: 914,\n",
       " 108: 1894,\n",
       " 170: 1020,\n",
       " 64: 3135,\n",
       " 193: 1050,\n",
       " 196: 988,\n",
       " 192: 1009,\n",
       " 53: 2573,\n",
       " 49: 2193,\n",
       " 35: 1321,\n",
       " 185: 924,\n",
       " 194: 1099,\n",
       " 171: 1280,\n",
       " 27: 1019,\n",
       " 175: 1185,\n",
       " 200: 1056,\n",
       " 182: 930,\n",
       " 183: 932,\n",
       " 197: 1068,\n",
       " 207: 1125,\n",
       " 186: 979,\n",
       " 190: 948,\n",
       " 204: 1105,\n",
       " 13: 751,\n",
       " 198: 1113,\n",
       " 191: 1004,\n",
       " 24: 963,\n",
       " 201: 1103,\n",
       " 202: 1149,\n",
       " 199: 1062,\n",
       " 211: 1152,\n",
       " 208: 1126,\n",
       " 210: 1151,\n",
       " 206: 1166,\n",
       " 203: 1103,\n",
       " 209: 1183,\n",
       " 213: 1157,\n",
       " 218: 1039,\n",
       " 214: 1107,\n",
       " 227: 819,\n",
       " 219: 1024,\n",
       " 205: 1138,\n",
       " 220: 997,\n",
       " 217: 1059,\n",
       " 212: 1159,\n",
       " 222: 891,\n",
       " 8: 704,\n",
       " 14: 814,\n",
       " 0: 2963,\n",
       " 224: 894,\n",
       " 215: 1100,\n",
       " 235: 872,\n",
       " 239: 1015,\n",
       " 233: 916,\n",
       " 232: 838,\n",
       " 236: 920,\n",
       " 216: 1136,\n",
       " 223: 892,\n",
       " 228: 801,\n",
       " 229: 779,\n",
       " 226: 791,\n",
       " 238: 1010,\n",
       " 240: 933,\n",
       " 225: 837,\n",
       " 7: 731,\n",
       " 234: 1097,\n",
       " 10: 730,\n",
       " 221: 962,\n",
       " 231: 882,\n",
       " 242: 847,\n",
       " 244: 676,\n",
       " 230: 773,\n",
       " 243: 716,\n",
       " 253: 279,\n",
       " 237: 1048,\n",
       " 246: 587,\n",
       " 249: 537,\n",
       " 247: 609,\n",
       " 245: 627,\n",
       " 250: 412,\n",
       " 251: 366,\n",
       " 255: 1577,\n",
       " 254: 250,\n",
       " 241: 965,\n",
       " 252: 317,\n",
       " 248: 563,\n",
       " 12: 775,\n",
       " 5: 653,\n",
       " 2: 564,\n",
       " 1: 508,\n",
       " 3: 569,\n",
       " 4: 635}"
      ]
     },
     "execution_count": 41,
     "metadata": {},
     "output_type": "execute_result"
    }
   ],
   "source": [
    "my_histogram"
   ]
  },
  {
   "cell_type": "code",
   "execution_count": null,
   "metadata": {},
   "outputs": [],
   "source": []
  }
 ],
 "metadata": {
  "kernelspec": {
   "display_name": "Python 3",
   "language": "python",
   "name": "python3"
  },
  "language_info": {
   "codemirror_mode": {
    "name": "ipython",
    "version": 3
   },
   "file_extension": ".py",
   "mimetype": "text/x-python",
   "name": "python",
   "nbconvert_exporter": "python",
   "pygments_lexer": "ipython3",
   "version": "3.7.3"
  }
 },
 "nbformat": 4,
 "nbformat_minor": 2
}
